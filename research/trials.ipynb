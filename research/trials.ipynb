{
 "cells": [
  {
   "cell_type": "code",
   "execution_count": 3,
   "metadata": {},
   "outputs": [],
   "source": [
    "from openmm import app, unit\n",
    "from openmm.app import HBonds, NoCutoff, PDBFile\n",
    "import openmm as mm\n",
    "from openmm import *\n",
    "from openmm.app import *\n",
    "from openmm.unit import *\n",
    "import urllib.request  \n",
    "import numpy as np\n",
    "from scipy.spatial.distance import squareform\n",
    "import scipy.stats as stats\n",
    "import matplotlib.pyplot as plt\n",
    "import pandas as pd\n",
    "from scipy.interpolate import griddata\n",
    "import seaborn as sns\n",
    "from matplotlib import colors\n",
    "from IPython.display import set_matplotlib_formats\n",
    "from openmm.app import PDBFile, Modeller\n",
    "from openmm.app.forcefield import ForceField\n",
    "import os\n",
    "from pathlib import Path\n",
    "from sys import stdout"
   ]
  },
  {
   "cell_type": "code",
   "execution_count": 4,
   "metadata": {},
   "outputs": [
    {
     "name": "stdout",
     "output_type": "stream",
     "text": [
      "<Topology; 2 chains, 3 residues, 56 atoms, 61 bonds>\n",
      "<Topology; 2 chains, 3 residues, 92 atoms, 97 bonds>\n"
     ]
    }
   ],
   "source": [
    "# Define the path to your PDB file\n",
    "pdb_path = r'E:\\MolecularDynamicsApp\\src\\MolecularDynamics\\data\\input\\A53c_mdr.pdb'\n",
    "\n",
    "# Check if the file exists before proceeding\n",
    "if not os.path.isfile(pdb_path):\n",
    "    raise FileNotFoundError(f\"File not found: {pdb_path}\")\n",
    "\n",
    "# Load PDB file and print topology\n",
    "pdb = PDBFile(pdb_path)\n",
    "print(pdb.topology)\n",
    "\n",
    "# Create Modeller instance and load positions\n",
    "modeller = Modeller(pdb.topology, pdb.positions)\n",
    "\n",
    "# Load force field (assuming 'amber14-all.xml' is in the current working directory)\n",
    "forcefield = ForceField('amber14-all.xml')\n",
    "\n",
    "try:\n",
    "    # Attempt to add hydrogens\n",
    "    modeller.addHydrogens(forcefield)\n",
    "except Exception as e:\n",
    "    print(f\"Error adding hydrogens: {str(e)}\")\n",
    "\n",
    "# Print modeller topology (optional)\n",
    "print(modeller.topology)\n",
    "\n",
    "# Write modified PDB file with hydrogens added\n",
    "with open('init.pdb', 'w') as outfile:\n",
    "    PDBFile.writeFile(modeller.topology, modeller.positions, outfile)"
   ]
  },
  {
   "cell_type": "code",
   "execution_count": 5,
   "metadata": {},
   "outputs": [
    {
     "name": "stdout",
     "output_type": "stream",
     "text": [
      "<Topology; 2 chains, 3 residues, 92 atoms, 97 bonds>\n",
      "-1145.1258544921875 kJ/mol\n"
     ]
    }
   ],
   "source": [
    "pdb = PDBFile('init.pdb')\n",
    "print(pdb.topology)\n",
    "modeller = Modeller(pdb.topology, pdb.positions)\n",
    "forcefield = ForceField('amber14-all.xml')\n",
    "modeller.addHydrogens(forcefield)\n",
    "system = forcefield.createSystem(modeller.topology, nonbondedMethod=app.NoCutoff, \n",
    "                nonbondedCutoff=3*nanometer, constraints=HBonds)\n",
    "integrator = LangevinIntegrator(303.15*kelvin, 1/picosecond, 2 * femtoseconds)\n",
    "simulation = Simulation(modeller.topology, system, integrator)\n",
    "simulation.context.setPositions(modeller.positions)\n",
    "simulation.reporters.append(StateDataReporter(stdout, 1000, step=True,\n",
    "potentialEnergy=True, temperature=True))\n",
    "simulation.minimizeEnergy(maxIterations=1000)\n",
    "state1 = simulation.context.getState(getEnergy=True)\n",
    "print(state1.getPotentialEnergy())\n"
   ]
  },
  {
   "cell_type": "code",
   "execution_count": 6,
   "metadata": {},
   "outputs": [
    {
     "name": "stdout",
     "output_type": "stream",
     "text": [
      "#\"Step\",\"Temperature (K)\",\"Elapsed Time (s)\"\n",
      "1000,278.9378059529617,0.0009999275207519531\n",
      "2000,287.0895294067479,0.765683650970459\n",
      "3000,291.75099386759575,1.3822999000549316\n",
      "4000,324.87993230703574,1.9989221096038818\n",
      "5000,311.31865953397954,2.627624034881592\n"
     ]
    }
   ],
   "source": [
    "simulation.reporters = []\n",
    "simulation.reporters.append(DCDReporter('traj.dcd', 1000))\n",
    "simulation.reporters.append(PDBReporter(\"U23a_out.pdb\", 1000))\n",
    "simulation.reporters.append(StateDataReporter(stdout, 1000, step=True,\n",
    "                                              temperature=True, elapsedTime=True))\n",
    "simulation.reporters.append(StateDataReporter(\"U23a.csv\", 1000, step=True, time=True,\n",
    "                                              potentialEnergy=True, totalEnergy=True, temperature=True))\n",
    "simulation.step(5000)\n",
    "del simulation"
   ]
  },
  {
   "cell_type": "code",
   "execution_count": null,
   "metadata": {},
   "outputs": [],
   "source": []
  }
 ],
 "metadata": {
  "kernelspec": {
   "display_name": "MD",
   "language": "python",
   "name": "python3"
  },
  "language_info": {
   "codemirror_mode": {
    "name": "ipython",
    "version": 3
   },
   "file_extension": ".py",
   "mimetype": "text/x-python",
   "name": "python",
   "nbconvert_exporter": "python",
   "pygments_lexer": "ipython3",
   "version": "3.7.12"
  }
 },
 "nbformat": 4,
 "nbformat_minor": 2
}
